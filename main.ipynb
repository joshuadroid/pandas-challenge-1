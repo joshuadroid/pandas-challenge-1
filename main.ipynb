{
 "cells": [
  {
   "cell_type": "code",
   "execution_count": 45,
   "id": "e97a352b-a924-428d-a881-c690b39ea7ed",
   "metadata": {},
   "outputs": [],
   "source": [
    "# Dependencies and Setup\n",
    "import pandas as pd\n",
    "\n",
    "# File to Load (Remember to Change These)\n",
    "file_to_load = \"Resources/purchase_data.csv\"\n",
    "\n",
    "# Read Purchasing File and store into Pandas data frame\n",
    "purchase_data = pd.read_csv(file_to_load)\n",
    "pd_df = purchase_data\n",
    "pd_df\n",
    "\n",
    "#Establishing Style Dictionary (For Styling Later!)\n",
    "style_dict = {}\n",
    "style_dict = {\n",
    "    'Item Price': '${:.2f}', \n",
    "    'Total Purchase Value': '${:.2f}', \n",
    "    'Average Price': '${:.2f}', \n",
    "    'Average Purchase Price': '${:.2f}',\n",
    "    'Total Revenue': '${:,.2f}',\n",
    "    'Percentage of Players': '{:,.2f}%',\n",
    "    \"Avg Total Purchase per Person\": \n",
    "}\n"
   ]
  },
  {
   "cell_type": "code",
   "execution_count": 46,
   "id": "c635ab24-f988-44e8-8b08-9aa2e2d0deb2",
   "metadata": {},
   "outputs": [
    {
     "data": {
      "text/html": [
       "<div>\n",
       "<style scoped>\n",
       "    .dataframe tbody tr th:only-of-type {\n",
       "        vertical-align: middle;\n",
       "    }\n",
       "\n",
       "    .dataframe tbody tr th {\n",
       "        vertical-align: top;\n",
       "    }\n",
       "\n",
       "    .dataframe thead th {\n",
       "        text-align: right;\n",
       "    }\n",
       "</style>\n",
       "<table border=\"1\" class=\"dataframe\">\n",
       "  <thead>\n",
       "    <tr style=\"text-align: right;\">\n",
       "      <th></th>\n",
       "      <th>Total Players</th>\n",
       "    </tr>\n",
       "  </thead>\n",
       "  <tbody>\n",
       "    <tr>\n",
       "      <th>0</th>\n",
       "      <td>576</td>\n",
       "    </tr>\n",
       "  </tbody>\n",
       "</table>\n",
       "</div>"
      ],
      "text/plain": [
       "   Total Players\n",
       "0            576"
      ]
     },
     "execution_count": 46,
     "metadata": {},
     "output_type": "execute_result"
    }
   ],
   "source": [
    "# Display the Total player count\n",
    "unique_player_df = pd.DataFrame(purchase_data[[\"SN\", \"Gender\"]])\n",
    "unique_player = unique_player_df[\"SN\"].unique()\n",
    "unique_player = len(unique_player)\n",
    "total_players_df = pd.DataFrame({\"Total Players\": [unique_player]})\n",
    "total_players_df"
   ]
  },
  {
   "cell_type": "code",
   "execution_count": 47,
   "id": "0b91f869-a5e0-4c7c-acdf-d5a18dfa42d8",
   "metadata": {},
   "outputs": [
    {
     "data": {
      "text/html": [
       "<style  type=\"text/css\" >\n",
       "</style><table id=\"T_d4ceb_\" ><thead>    <tr>        <th class=\"blank level0\" ></th>        <th class=\"col_heading level0 col0\" >Number of Unique Items</th>        <th class=\"col_heading level0 col1\" >Average Price</th>        <th class=\"col_heading level0 col2\" >Number of Purchases</th>        <th class=\"col_heading level0 col3\" >Total Revenue</th>    </tr></thead><tbody>\n",
       "                <tr>\n",
       "                        <th id=\"T_d4ceb_level0_row0\" class=\"row_heading level0 row0\" >0</th>\n",
       "                        <td id=\"T_d4ceb_row0_col0\" class=\"data row0 col0\" >179</td>\n",
       "                        <td id=\"T_d4ceb_row0_col1\" class=\"data row0 col1\" >$3.05</td>\n",
       "                        <td id=\"T_d4ceb_row0_col2\" class=\"data row0 col2\" >780</td>\n",
       "                        <td id=\"T_d4ceb_row0_col3\" class=\"data row0 col3\" >$2,379.77</td>\n",
       "            </tr>\n",
       "    </tbody></table>"
      ],
      "text/plain": [
       "<pandas.io.formats.style.Styler at 0x1a70446cfd0>"
      ]
     },
     "execution_count": 47,
     "metadata": {},
     "output_type": "execute_result"
    }
   ],
   "source": [
    "# Purchasing Analysis (Total)\n",
    "# Run basic calculations to obtain number of unique items, average price, etc.\n",
    "unique_item_name = purchase_data[\"Item Name\"].unique()\n",
    "unique_item_name = len(unique_item_name)\n",
    "\n",
    "average_price = purchase_data[\"Price\"].mean()\n",
    "purchases = purchase_data[\"Purchase ID\"].count()\n",
    "total_revenue = purchase_data[\"Price\"].sum()\n",
    "purch_analysis = pd.DataFrame({\n",
    "    \"Number of Unique Items\": [unique_item_name],\n",
    "    \"Average Price\": [average_price],\n",
    "    \"Number of Purchases\": [purchases],\n",
    "    \"Total Revenue\": [total_revenue]\n",
    "})\n",
    "purch_analysis.style.format(style_dict)"
   ]
  },
  {
   "cell_type": "code",
   "execution_count": 48,
   "id": "325a62a2-1471-4735-a7d3-e89293e7a587",
   "metadata": {},
   "outputs": [
    {
     "data": {
      "text/html": [
       "<style  type=\"text/css\" >\n",
       "</style><table id=\"T_6ca8d_\" ><thead>    <tr>        <th class=\"blank level0\" ></th>        <th class=\"col_heading level0 col0\" >Total Count</th>        <th class=\"col_heading level0 col1\" >Percentage of Players</th>    </tr>    <tr>        <th class=\"index_name level0\" ></th>        <th class=\"blank\" ></th>        <th class=\"blank\" ></th>    </tr></thead><tbody>\n",
       "                <tr>\n",
       "                        <th id=\"T_6ca8d_level0_row0\" class=\"row_heading level0 row0\" >Male</th>\n",
       "                        <td id=\"T_6ca8d_row0_col0\" class=\"data row0 col0\" >484</td>\n",
       "                        <td id=\"T_6ca8d_row0_col1\" class=\"data row0 col1\" >84.03%</td>\n",
       "            </tr>\n",
       "            <tr>\n",
       "                        <th id=\"T_6ca8d_level0_row1\" class=\"row_heading level0 row1\" >Female</th>\n",
       "                        <td id=\"T_6ca8d_row1_col0\" class=\"data row1 col0\" >81</td>\n",
       "                        <td id=\"T_6ca8d_row1_col1\" class=\"data row1 col1\" >14.06%</td>\n",
       "            </tr>\n",
       "            <tr>\n",
       "                        <th id=\"T_6ca8d_level0_row2\" class=\"row_heading level0 row2\" >Other / Non-Disclosed</th>\n",
       "                        <td id=\"T_6ca8d_row2_col0\" class=\"data row2 col0\" >11</td>\n",
       "                        <td id=\"T_6ca8d_row2_col1\" class=\"data row2 col1\" >1.91%</td>\n",
       "            </tr>\n",
       "    </tbody></table>"
      ],
      "text/plain": [
       "<pandas.io.formats.style.Styler at 0x1a7030d0f10>"
      ]
     },
     "execution_count": 48,
     "metadata": {},
     "output_type": "execute_result"
    }
   ],
   "source": [
    "# Getting the values for the different gender lists\n",
    "\n",
    "gender_demo_df = purchase_data[[\"SN\", \"Gender\"]]\n",
    "gender_demo_df = gender_demo_df.drop_duplicates(subset=\"SN\")\n",
    "gender_demo_df.sort_values(\"Gender\")\n",
    "female_count = gender_demo_df.loc[gender_demo_df[\"Gender\"] == \"Female\"]\n",
    "male_count = gender_demo_df.loc[gender_demo_df[\"Gender\"] == \"Male\"]\n",
    "other_count = gender_demo_df.loc[gender_demo_df[\"Gender\"] == \"Other / Non-Disclosed\"]\n",
    "\n",
    "# Gender Demographics\n",
    "# Percentage and Count of Male Players      \n",
    "# Percentage and Count of Female Players\n",
    "# Percentage and Count of Other / Non-Disclosed\n",
    "\n",
    "gender_demo_stats = pd.DataFrame({\n",
    "    \"\": [\"Male\", \"Female\", \"Other / Non-Disclosed\"],\n",
    "    \"Total Count\": [len(male_count), len(female_count), len(other_count)],\n",
    "    \"Percentage of Players\": [(len(male_count) / len(gender_demo_df))*100, (len(female_count) / len(gender_demo_df))*100, (len(other_count) / len(gender_demo_df))*100]\n",
    "})\n",
    "gender_demo_stats = gender_demo_stats.set_index(\"\")\n",
    "gender_demo_stats = gender_demo_stats.style.format(style_dict)\n",
    "gender_demo_stats"
   ]
  },
  {
   "cell_type": "code",
   "execution_count": 130,
   "id": "27bf7902-db29-41ef-8fee-1213a90375ef",
   "metadata": {},
   "outputs": [],
   "source": [
    "# Purchasing Analysis (Gender)\n",
    "# The below each broken by gender\n",
    "genders = pd_df.groupby(\"Gender\")[\"Price\"].count()\n",
    "\n",
    "# Purchase Count\n",
    "purch_count = pd_df.groupby(\"Gender\")[\"Gender\"].count()\n",
    "\n",
    "# Average Purchase Price\n",
    "avg_purch_price = pd_df.groupby(\"Gender\")[\"Price\"].mean()\n",
    "\n",
    "# Total Purchase Value\n",
    "total_purch_value = pd_df.groupby(\"Gender\")[\"Price\"].sum()\n",
    "\n",
    "# Average Purchase Total per Person by Gender\n",
    "avg_purch_by_gender = pd_df.groupby([\"SN\", \"Gender\"]).sum()\n",
    "avg_purch_by_gender = pd.DataFrame(avg_purch_by_gender)\n",
    "avg_purch_by_gender = (avg_purch_by_gender.groupby(\"Gender\")[\"Price\"].mean())\n",
    "avg_purch_by_gender\n",
    "\n",
    "purch_analysis_gender = pd.DataFrame({\n",
    "    \"Purchase Count\": purch_count,\n",
    "    \"Average Purchase Price\": avg_purch_price,\n",
    "    \"Total Purchase Value\": total_purch_value,\n",
    "    \"Avg Total Purchase per Person\": avg_purch_by_gender\n",
    "})"
   ]
  },
  {
   "cell_type": "code",
   "execution_count": 131,
   "id": "e3ee6c38-5e2c-4412-be64-6da328e377e3",
   "metadata": {},
   "outputs": [
    {
     "data": {
      "text/html": [
       "<style  type=\"text/css\" >\n",
       "</style><table id=\"T_e2787_\" ><thead>    <tr>        <th class=\"blank level0\" ></th>        <th class=\"col_heading level0 col0\" >Purchase Count</th>        <th class=\"col_heading level0 col1\" >Average Purchase Price</th>        <th class=\"col_heading level0 col2\" >Total Purchase Value</th>        <th class=\"col_heading level0 col3\" >Avg Total Purchase per Person</th>    </tr>    <tr>        <th class=\"index_name level0\" >Gender</th>        <th class=\"blank\" ></th>        <th class=\"blank\" ></th>        <th class=\"blank\" ></th>        <th class=\"blank\" ></th>    </tr></thead><tbody>\n",
       "                <tr>\n",
       "                        <th id=\"T_e2787_level0_row0\" class=\"row_heading level0 row0\" >Female</th>\n",
       "                        <td id=\"T_e2787_row0_col0\" class=\"data row0 col0\" >113</td>\n",
       "                        <td id=\"T_e2787_row0_col1\" class=\"data row0 col1\" >$3.20</td>\n",
       "                        <td id=\"T_e2787_row0_col2\" class=\"data row0 col2\" >$361.94</td>\n",
       "                        <td id=\"T_e2787_row0_col3\" class=\"data row0 col3\" >4.468395</td>\n",
       "            </tr>\n",
       "            <tr>\n",
       "                        <th id=\"T_e2787_level0_row1\" class=\"row_heading level0 row1\" >Male</th>\n",
       "                        <td id=\"T_e2787_row1_col0\" class=\"data row1 col0\" >652</td>\n",
       "                        <td id=\"T_e2787_row1_col1\" class=\"data row1 col1\" >$3.02</td>\n",
       "                        <td id=\"T_e2787_row1_col2\" class=\"data row1 col2\" >$1967.64</td>\n",
       "                        <td id=\"T_e2787_row1_col3\" class=\"data row1 col3\" >4.065372</td>\n",
       "            </tr>\n",
       "            <tr>\n",
       "                        <th id=\"T_e2787_level0_row2\" class=\"row_heading level0 row2\" >Other / Non-Disclosed</th>\n",
       "                        <td id=\"T_e2787_row2_col0\" class=\"data row2 col0\" >15</td>\n",
       "                        <td id=\"T_e2787_row2_col1\" class=\"data row2 col1\" >$3.35</td>\n",
       "                        <td id=\"T_e2787_row2_col2\" class=\"data row2 col2\" >$50.19</td>\n",
       "                        <td id=\"T_e2787_row2_col3\" class=\"data row2 col3\" >4.562727</td>\n",
       "            </tr>\n",
       "    </tbody></table>"
      ],
      "text/plain": [
       "<pandas.io.formats.style.Styler at 0x1a704683ca0>"
      ]
     },
     "execution_count": 131,
     "metadata": {},
     "output_type": "execute_result"
    }
   ],
   "source": [
    "purch_analysis_gender.style.format(style_dict)"
   ]
  },
  {
   "cell_type": "code",
   "execution_count": 54,
   "id": "e2bd48e4-14dc-4b52-985c-7e006401a140",
   "metadata": {
    "tags": []
   },
   "outputs": [],
   "source": [
    "# Age Demographics\n",
    "# The below each broken into bins of 4 years (i.e. <10, 10-14, 15-19, etc.)\n",
    "bins = [0, 9.9, 14.9, 19.9, 24.9, 29.9, 39.9, 1000]\n",
    "age_labels = [\" <10\", \"10-14\", \"15-19\", \"20-24\", \"25-29\", \"30-39\", \"40+\"]\n",
    "\n",
    "#purchase analysis df\n",
    "pa_df = purchase_data\n",
    "pa_df[\"Age Range\"] = pd.cut(pa_df[\"Age\"], bins, labels=age_labels)\n",
    "age_demo = pd.DataFrame(pa_df[\"Age Range\"].value_counts())\n",
    "age_demo = age_demo.sort_index()\n",
    "age_demo = age_demo.reset_index()\n",
    "age_demo = age_demo.rename(columns={\"index\": \"Groups\"})\n",
    "\n",
    "# Get Percentages of Players\n",
    "\n",
    "\n",
    "\n",
    "\n",
    "\n",
    "# percentages = percentages.reset_index()\n",
    "# percentages = percentages.rename(columns={\"index\": \"Groups\"})\n",
    "\n",
    "\n",
    "# a = pd.merge(age_demo, percentages, on=\"Groups\")\n",
    "# # ???? Merging??\n",
    "\n",
    "\n",
    "# Purchase Count\n",
    "# Average Purchase Price\n",
    "# Total Purchase Value\n",
    "# Average Purchase Total per Person by Age Group"
   ]
  },
  {
   "cell_type": "code",
   "execution_count": 55,
   "id": "27c1fc87-41e6-49e2-994b-0b8c080fb979",
   "metadata": {},
   "outputs": [
    {
     "data": {
      "text/plain": [
       "0      20\n",
       "1      40\n",
       "2      24\n",
       "3      24\n",
       "4      23\n",
       "       ..\n",
       "775    21\n",
       "776    21\n",
       "777    20\n",
       "778     7\n",
       "779    24\n",
       "Name: Age, Length: 780, dtype: int64"
      ]
     },
     "execution_count": 55,
     "metadata": {},
     "output_type": "execute_result"
    }
   ],
   "source": [
    "purchase_data[\"Age\"]"
   ]
  },
  {
   "cell_type": "code",
   "execution_count": 56,
   "id": "59470249-db24-4766-8015-6b5209cdf176",
   "metadata": {},
   "outputs": [
    {
     "ename": "NameError",
     "evalue": "name 'a' is not defined",
     "output_type": "error",
     "traceback": [
      "\u001b[1;31m---------------------------------------------------------------------------\u001b[0m",
      "\u001b[1;31mNameError\u001b[0m                                 Traceback (most recent call last)",
      "\u001b[1;32m<ipython-input-56-3f786850e387>\u001b[0m in \u001b[0;36m<module>\u001b[1;34m\u001b[0m\n\u001b[1;32m----> 1\u001b[1;33m \u001b[0ma\u001b[0m\u001b[1;33m\u001b[0m\u001b[1;33m\u001b[0m\u001b[0m\n\u001b[0m",
      "\u001b[1;31mNameError\u001b[0m: name 'a' is not defined"
     ]
    }
   ],
   "source": [
    "a"
   ]
  },
  {
   "cell_type": "code",
   "execution_count": 57,
   "id": "c299180c-b4ed-407d-8d41-b92dcefa718d",
   "metadata": {},
   "outputs": [
    {
     "ename": "NameError",
     "evalue": "name 'c' is not defined",
     "output_type": "error",
     "traceback": [
      "\u001b[1;31m---------------------------------------------------------------------------\u001b[0m",
      "\u001b[1;31mNameError\u001b[0m                                 Traceback (most recent call last)",
      "\u001b[1;32m<ipython-input-57-2b66fd261ee5>\u001b[0m in \u001b[0;36m<module>\u001b[1;34m\u001b[0m\n\u001b[1;32m----> 1\u001b[1;33m \u001b[0mc\u001b[0m\u001b[1;33m\u001b[0m\u001b[1;33m\u001b[0m\u001b[0m\n\u001b[0m",
      "\u001b[1;31mNameError\u001b[0m: name 'c' is not defined"
     ]
    }
   ],
   "source": [
    "c"
   ]
  },
  {
   "cell_type": "code",
   "execution_count": 74,
   "id": "49f2394d-b2a8-4098-9966-96e6b0bd8e3f",
   "metadata": {},
   "outputs": [
    {
     "data": {
      "text/html": [
       "<style  type=\"text/css\" >\n",
       "</style><table id=\"T_4886e_\" ><thead>    <tr>        <th class=\"blank level0\" ></th>        <th class=\"col_heading level0 col0\" >Purchase Count</th>        <th class=\"col_heading level0 col1\" >Average Purchase Price</th>        <th class=\"col_heading level0 col2\" >Total Purchase Value</th>    </tr>    <tr>        <th class=\"index_name level0\" >SN</th>        <th class=\"blank\" ></th>        <th class=\"blank\" ></th>        <th class=\"blank\" ></th>    </tr></thead><tbody>\n",
       "                <tr>\n",
       "                        <th id=\"T_4886e_level0_row0\" class=\"row_heading level0 row0\" >Lisosia93</th>\n",
       "                        <td id=\"T_4886e_row0_col0\" class=\"data row0 col0\" >5</td>\n",
       "                        <td id=\"T_4886e_row0_col1\" class=\"data row0 col1\" >$3.79</td>\n",
       "                        <td id=\"T_4886e_row0_col2\" class=\"data row0 col2\" >$18.96</td>\n",
       "            </tr>\n",
       "            <tr>\n",
       "                        <th id=\"T_4886e_level0_row1\" class=\"row_heading level0 row1\" >Idastidru52</th>\n",
       "                        <td id=\"T_4886e_row1_col0\" class=\"data row1 col0\" >4</td>\n",
       "                        <td id=\"T_4886e_row1_col1\" class=\"data row1 col1\" >$3.86</td>\n",
       "                        <td id=\"T_4886e_row1_col2\" class=\"data row1 col2\" >$15.45</td>\n",
       "            </tr>\n",
       "            <tr>\n",
       "                        <th id=\"T_4886e_level0_row2\" class=\"row_heading level0 row2\" >Chamjask73</th>\n",
       "                        <td id=\"T_4886e_row2_col0\" class=\"data row2 col0\" >3</td>\n",
       "                        <td id=\"T_4886e_row2_col1\" class=\"data row2 col1\" >$4.61</td>\n",
       "                        <td id=\"T_4886e_row2_col2\" class=\"data row2 col2\" >$13.83</td>\n",
       "            </tr>\n",
       "            <tr>\n",
       "                        <th id=\"T_4886e_level0_row3\" class=\"row_heading level0 row3\" >Iral74</th>\n",
       "                        <td id=\"T_4886e_row3_col0\" class=\"data row3 col0\" >4</td>\n",
       "                        <td id=\"T_4886e_row3_col1\" class=\"data row3 col1\" >$3.40</td>\n",
       "                        <td id=\"T_4886e_row3_col2\" class=\"data row3 col2\" >$13.62</td>\n",
       "            </tr>\n",
       "            <tr>\n",
       "                        <th id=\"T_4886e_level0_row4\" class=\"row_heading level0 row4\" >Iskadarya95</th>\n",
       "                        <td id=\"T_4886e_row4_col0\" class=\"data row4 col0\" >3</td>\n",
       "                        <td id=\"T_4886e_row4_col1\" class=\"data row4 col1\" >$4.37</td>\n",
       "                        <td id=\"T_4886e_row4_col2\" class=\"data row4 col2\" >$13.10</td>\n",
       "            </tr>\n",
       "    </tbody></table>"
      ],
      "text/plain": [
       "<pandas.io.formats.style.Styler at 0x1a704505160>"
      ]
     },
     "execution_count": 74,
     "metadata": {},
     "output_type": "execute_result"
    }
   ],
   "source": [
    "# Top Spenders\n",
    "# Identify the the top 5 spenders in the game by total purchase value, then list (in a table):\n",
    "# SN\n",
    "# Purchase Count\n",
    "# Average Purchase Price\n",
    "# Total Purchase Value\n",
    "# Most Popular Items\n",
    "\n",
    "# SN\n",
    "a = pd_df.groupby(\"SN\").sum()\n",
    "a = a.sort_values(by=\"Price\", ascending=False).head(5)\n",
    "list = [\"Lisosia93\", \"Idastidru52\", \"Chamjask73\", \"Iral74\", \"Iskadarya95\"]\n",
    "\n",
    "# Purchase Count - Grouped by SN, Sorted on highest Purchase count\n",
    "c = pd_df.set_index(\"SN\")\n",
    "c = c.loc[list, :]\n",
    "c = c.groupby(\"SN\")[\"Purchase ID\"].count()\n",
    "\n",
    "# Average Purchase Price\n",
    "d = pd.merge(a, c, on=\"SN\")\n",
    "\n",
    "d[\"Average Purchase Price\"] = (d[\"Price\"] / d[\"Purchase ID_y\"])\n",
    "d = d.rename(columns={\"Purchase ID_y\": \"Purchase Count\", \"Price\": \"Total Purchase Value\"})\n",
    "d = d[[\"Purchase Count\", \"Average Purchase Price\", \"Total Purchase Value\"]]\n",
    "d = pd.DataFrame(d)\n",
    "d.style.format(style_dict)"
   ]
  },
  {
   "cell_type": "code",
   "execution_count": null,
   "id": "bfbfc909-c25b-4556-b53c-235cdd7ad83e",
   "metadata": {},
   "outputs": [],
   "source": []
  },
  {
   "cell_type": "code",
   "execution_count": 79,
   "id": "3ac95523-b89e-4817-89ad-c2ae418f621b",
   "metadata": {
    "tags": []
   },
   "outputs": [
    {
     "data": {
      "text/html": [
       "<style  type=\"text/css\" >\n",
       "</style><table id=\"T_4aba9_\" ><thead>    <tr>        <th class=\"blank level0\" ></th>        <th class=\"col_heading level0 col0\" >Item Name</th>        <th class=\"col_heading level0 col1\" >Purchase Count</th>        <th class=\"col_heading level0 col2\" >Item Price</th>        <th class=\"col_heading level0 col3\" >Total Purchase Value</th>    </tr>    <tr>        <th class=\"index_name level0\" >Item ID</th>        <th class=\"blank\" ></th>        <th class=\"blank\" ></th>        <th class=\"blank\" ></th>        <th class=\"blank\" ></th>    </tr></thead><tbody>\n",
       "                <tr>\n",
       "                        <th id=\"T_4aba9_level0_row0\" class=\"row_heading level0 row0\" >92</th>\n",
       "                        <td id=\"T_4aba9_row0_col0\" class=\"data row0 col0\" >Final Critic</td>\n",
       "                        <td id=\"T_4aba9_row0_col1\" class=\"data row0 col1\" >13</td>\n",
       "                        <td id=\"T_4aba9_row0_col2\" class=\"data row0 col2\" >$4.88</td>\n",
       "                        <td id=\"T_4aba9_row0_col3\" class=\"data row0 col3\" >$59.99</td>\n",
       "            </tr>\n",
       "            <tr>\n",
       "                        <th id=\"T_4aba9_level0_row1\" class=\"row_heading level0 row1\" >178</th>\n",
       "                        <td id=\"T_4aba9_row1_col0\" class=\"data row1 col0\" >Oathbreaker, Last Hope of the Breaking Storm</td>\n",
       "                        <td id=\"T_4aba9_row1_col1\" class=\"data row1 col1\" >12</td>\n",
       "                        <td id=\"T_4aba9_row1_col2\" class=\"data row1 col2\" >$4.23</td>\n",
       "                        <td id=\"T_4aba9_row1_col3\" class=\"data row1 col3\" >$50.76</td>\n",
       "            </tr>\n",
       "            <tr>\n",
       "                        <th id=\"T_4aba9_level0_row2\" class=\"row_heading level0 row2\" >145</th>\n",
       "                        <td id=\"T_4aba9_row2_col0\" class=\"data row2 col0\" >Fiery Glass Crusader</td>\n",
       "                        <td id=\"T_4aba9_row2_col1\" class=\"data row2 col1\" >9</td>\n",
       "                        <td id=\"T_4aba9_row2_col2\" class=\"data row2 col2\" >$4.58</td>\n",
       "                        <td id=\"T_4aba9_row2_col3\" class=\"data row2 col3\" >$41.22</td>\n",
       "            </tr>\n",
       "            <tr>\n",
       "                        <th id=\"T_4aba9_level0_row3\" class=\"row_heading level0 row3\" >132</th>\n",
       "                        <td id=\"T_4aba9_row3_col0\" class=\"data row3 col0\" >Persuasion</td>\n",
       "                        <td id=\"T_4aba9_row3_col1\" class=\"data row3 col1\" >9</td>\n",
       "                        <td id=\"T_4aba9_row3_col2\" class=\"data row3 col2\" >$3.19</td>\n",
       "                        <td id=\"T_4aba9_row3_col3\" class=\"data row3 col3\" >$28.99</td>\n",
       "            </tr>\n",
       "            <tr>\n",
       "                        <th id=\"T_4aba9_level0_row4\" class=\"row_heading level0 row4\" >108</th>\n",
       "                        <td id=\"T_4aba9_row4_col0\" class=\"data row4 col0\" >Extraction, Quickblade Of Trembling Hands</td>\n",
       "                        <td id=\"T_4aba9_row4_col1\" class=\"data row4 col1\" >9</td>\n",
       "                        <td id=\"T_4aba9_row4_col2\" class=\"data row4 col2\" >$3.53</td>\n",
       "                        <td id=\"T_4aba9_row4_col3\" class=\"data row4 col3\" >$31.77</td>\n",
       "            </tr>\n",
       "    </tbody></table>"
      ],
      "text/plain": [
       "<pandas.io.formats.style.Styler at 0x1a704540cd0>"
      ]
     },
     "execution_count": 79,
     "metadata": {},
     "output_type": "execute_result"
    }
   ],
   "source": [
    "# Identify the 5 most popular items by purchase count, then list (in a table):\n",
    "# Item ID\n",
    "# Item Name\n",
    "# Purchase Count\n",
    "# Item Price\n",
    "# Total Purchase Value\n",
    "# Most Profitable Items\n",
    "\n",
    "# Calculations \n",
    "item_name = pd_df.groupby(\"Item Name\").count()\n",
    "pop_items = item_name.sort_values(by=\"Purchase ID\", ascending=False)\n",
    "pop_items = pop_items.reset_index()\n",
    "\n",
    "item_price = pd_df.groupby(\"Item Name\")[\"Price\"].sum()\n",
    "e = item_price.loc[pop_items[\"Item Name\"]]\n",
    "pop_items = pd.merge(pop_items, e, on=\"Item Name\")\n",
    "\n",
    "# Put Item ID & Item Price back into pop_items table for items\n",
    "#     Find right item name and match columns\n",
    "\n",
    "item_ids = pd_df.groupby(\"Item Name\")[\"Item ID\"].first()\n",
    "item_prices = pd_df.groupby(\"Item Name\")[\"Price\"].first()\n",
    "\n",
    "pop_items = pd.merge(pop_items, item_ids, on=\"Item Name\")\n",
    "pop_items = pd.merge(pop_items, item_prices, on=\"Item Name\")\n",
    "\n",
    "# Column Manipulation\n",
    "most_pop_items = pop_items[[\"Item ID_y\", \"Item Name\", \"Purchase ID\", \"Price\", \"Price_y\"]]\n",
    "\n",
    "most_pop_items = most_pop_items.rename(columns={\n",
    "    \"Item ID_y\": \"Item ID\",\n",
    "    \"Purchase ID\": \"Purchase Count\",\n",
    "    \"Price\": \"Item Price\",\n",
    "    \"Price_y\": \"Total Purchase Value\"\n",
    "})\n",
    "\n",
    "# Set Index to Item ID\n",
    "most_pop_items = most_pop_items.set_index('Item ID')\n",
    "\n",
    "# Sorting and Displaying\n",
    "most_pop_items = most_pop_items.sort_values(by=[\"Purchase Count\", \"Item ID\"], ascending=False)\n",
    "most_pop_items.head(5).style.format(style_dict)"
   ]
  },
  {
   "cell_type": "code",
   "execution_count": null,
   "id": "29ce4736-3748-4cf3-9fa9-cdaefde879f4",
   "metadata": {},
   "outputs": [],
   "source": []
  },
  {
   "cell_type": "code",
   "execution_count": 76,
   "id": "bfb99a69-db99-4b17-890a-d5fb7665dfc2",
   "metadata": {},
   "outputs": [],
   "source": [
    "# Most Profitable Items"
   ]
  },
  {
   "cell_type": "code",
   "execution_count": 78,
   "id": "6aa7d3f3-dc77-4238-b0b7-548de86af930",
   "metadata": {},
   "outputs": [
    {
     "data": {
      "text/html": [
       "<style  type=\"text/css\" >\n",
       "</style><table id=\"T_7fb93_\" ><thead>    <tr>        <th class=\"blank level0\" ></th>        <th class=\"col_heading level0 col0\" >Item Name</th>        <th class=\"col_heading level0 col1\" >Purchase Count</th>        <th class=\"col_heading level0 col2\" >Item Price</th>        <th class=\"col_heading level0 col3\" >Total Purchase Value</th>    </tr>    <tr>        <th class=\"index_name level0\" >Item ID</th>        <th class=\"blank\" ></th>        <th class=\"blank\" ></th>        <th class=\"blank\" ></th>        <th class=\"blank\" ></th>    </tr></thead><tbody>\n",
       "                <tr>\n",
       "                        <th id=\"T_7fb93_level0_row0\" class=\"row_heading level0 row0\" >92</th>\n",
       "                        <td id=\"T_7fb93_row0_col0\" class=\"data row0 col0\" >Final Critic</td>\n",
       "                        <td id=\"T_7fb93_row0_col1\" class=\"data row0 col1\" >13</td>\n",
       "                        <td id=\"T_7fb93_row0_col2\" class=\"data row0 col2\" >$4.88</td>\n",
       "                        <td id=\"T_7fb93_row0_col3\" class=\"data row0 col3\" >$59.99</td>\n",
       "            </tr>\n",
       "            <tr>\n",
       "                        <th id=\"T_7fb93_level0_row1\" class=\"row_heading level0 row1\" >178</th>\n",
       "                        <td id=\"T_7fb93_row1_col0\" class=\"data row1 col0\" >Oathbreaker, Last Hope of the Breaking Storm</td>\n",
       "                        <td id=\"T_7fb93_row1_col1\" class=\"data row1 col1\" >12</td>\n",
       "                        <td id=\"T_7fb93_row1_col2\" class=\"data row1 col2\" >$4.23</td>\n",
       "                        <td id=\"T_7fb93_row1_col3\" class=\"data row1 col3\" >$50.76</td>\n",
       "            </tr>\n",
       "            <tr>\n",
       "                        <th id=\"T_7fb93_level0_row2\" class=\"row_heading level0 row2\" >82</th>\n",
       "                        <td id=\"T_7fb93_row2_col0\" class=\"data row2 col0\" >Nirvana</td>\n",
       "                        <td id=\"T_7fb93_row2_col1\" class=\"data row2 col1\" >9</td>\n",
       "                        <td id=\"T_7fb93_row2_col2\" class=\"data row2 col2\" >$4.90</td>\n",
       "                        <td id=\"T_7fb93_row2_col3\" class=\"data row2 col3\" >$44.10</td>\n",
       "            </tr>\n",
       "            <tr>\n",
       "                        <th id=\"T_7fb93_level0_row3\" class=\"row_heading level0 row3\" >145</th>\n",
       "                        <td id=\"T_7fb93_row3_col0\" class=\"data row3 col0\" >Fiery Glass Crusader</td>\n",
       "                        <td id=\"T_7fb93_row3_col1\" class=\"data row3 col1\" >9</td>\n",
       "                        <td id=\"T_7fb93_row3_col2\" class=\"data row3 col2\" >$4.58</td>\n",
       "                        <td id=\"T_7fb93_row3_col3\" class=\"data row3 col3\" >$41.22</td>\n",
       "            </tr>\n",
       "            <tr>\n",
       "                        <th id=\"T_7fb93_level0_row4\" class=\"row_heading level0 row4\" >103</th>\n",
       "                        <td id=\"T_7fb93_row4_col0\" class=\"data row4 col0\" >Singed Scalpel</td>\n",
       "                        <td id=\"T_7fb93_row4_col1\" class=\"data row4 col1\" >8</td>\n",
       "                        <td id=\"T_7fb93_row4_col2\" class=\"data row4 col2\" >$4.35</td>\n",
       "                        <td id=\"T_7fb93_row4_col3\" class=\"data row4 col3\" >$34.80</td>\n",
       "            </tr>\n",
       "    </tbody></table>"
      ],
      "text/plain": [
       "<pandas.io.formats.style.Styler at 0x1a7045058b0>"
      ]
     },
     "execution_count": 78,
     "metadata": {},
     "output_type": "execute_result"
    }
   ],
   "source": [
    "# Sort the above table by total purchase value in descending order\n",
    "# Optional: give the displayed data cleaner formatting\n",
    "# Display a preview of the data frame\n",
    "most_prof_items = most_pop_items\n",
    "most_prof_items = most_prof_items.sort_values(by=\"Total Purchase Value\", ascending=False)\n",
    "most_prof_items.head(5).style.format(style_dict)"
   ]
  },
  {
   "cell_type": "code",
   "execution_count": null,
   "id": "97c52164-5b5a-4b1a-a387-5094f4c8d1c9",
   "metadata": {},
   "outputs": [],
   "source": []
  },
  {
   "cell_type": "code",
   "execution_count": null,
   "id": "695ff826-7a09-405c-a50a-4f1fbd6ec5d6",
   "metadata": {},
   "outputs": [],
   "source": []
  },
  {
   "cell_type": "code",
   "execution_count": null,
   "id": "95ad0556-56ce-44f9-a20d-49336f7500ef",
   "metadata": {},
   "outputs": [],
   "source": []
  },
  {
   "cell_type": "code",
   "execution_count": null,
   "id": "534093ce-6c87-4d7f-b59a-27b698d7e540",
   "metadata": {},
   "outputs": [],
   "source": []
  },
  {
   "cell_type": "code",
   "execution_count": null,
   "id": "4c455112-d4f0-4578-8a5a-265a84d0554e",
   "metadata": {},
   "outputs": [],
   "source": []
  },
  {
   "cell_type": "code",
   "execution_count": null,
   "id": "2c7a32a7-2d83-406b-8edb-f24bc44c7495",
   "metadata": {},
   "outputs": [],
   "source": []
  },
  {
   "cell_type": "code",
   "execution_count": null,
   "id": "9c30852f-b7f2-4e68-8e49-59f8cda189de",
   "metadata": {},
   "outputs": [],
   "source": []
  }
 ],
 "metadata": {
  "kernelspec": {
   "display_name": "Python 3",
   "language": "python",
   "name": "python3"
  },
  "language_info": {
   "codemirror_mode": {
    "name": "ipython",
    "version": 3
   },
   "file_extension": ".py",
   "mimetype": "text/x-python",
   "name": "python",
   "nbconvert_exporter": "python",
   "pygments_lexer": "ipython3",
   "version": "3.8.8"
  }
 },
 "nbformat": 4,
 "nbformat_minor": 5
}
