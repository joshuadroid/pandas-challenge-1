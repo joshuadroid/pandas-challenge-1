{
 "cells": [
  {
   "cell_type": "code",
   "execution_count": 72,
   "id": "e97a352b-a924-428d-a881-c690b39ea7ed",
   "metadata": {},
   "outputs": [],
   "source": [
    "# Dependencies and Setup\n",
    "import pandas as pd\n",
    "\n",
    "# File to Load (Remember to Change These)\n",
    "file_to_load = \"Resources/purchase_data.csv\"\n",
    "\n",
    "# Read Purchasing File and store into Pandas data frame\n",
    "purchase_data = pd.read_csv(file_to_load)\n",
    "pd_df = purchase_data\n",
    "pd_df\n",
    "\n",
    "#Establishing Style Dictionary (For Styling Later!)\n",
    "style_dict = {}\n",
    "style_dict = {\n",
    "    'Item Price': '${:.2f}', \n",
    "    'Total Purchase Value': '${:.2f}', \n",
    "    'Average Purchase Price': '${:.2f}'\n",
    "}\n"
   ]
  },
  {
   "cell_type": "code",
   "execution_count": 111,
   "id": "c635ab24-f988-44e8-8b08-9aa2e2d0deb2",
   "metadata": {},
   "outputs": [
    {
     "name": "stdout",
     "output_type": "stream",
     "text": [
      "Total Player Count: 576\n"
     ]
    }
   ],
   "source": [
    "# Display the Total player count\n",
    "unique_player_df = pd.DataFrame(purchase_data[[\"SN\", \"Gender\"]])\n",
    "unique_player = unique_player_df[\"SN\"].unique()\n",
    "print(f\"Total Player Count: {len(unique_player)}\")\n"
   ]
  },
  {
   "cell_type": "code",
   "execution_count": 74,
   "id": "0b91f869-a5e0-4c7c-acdf-d5a18dfa42d8",
   "metadata": {},
   "outputs": [
    {
     "name": "stdout",
     "output_type": "stream",
     "text": [
      "179 3.050987179487176 780 2379.77\n"
     ]
    }
   ],
   "source": [
    "# Purchasing Analysis (Total)\n",
    "# Run basic calculations to obtain number of unique items, average price, etc.\n",
    "unique_item_name = purchase_data[\"Item Name\"].unique()\n",
    "unique_item_name = len(unique_item_name)\n",
    "\n",
    "average_price = purchase_data[\"Price\"].mean()\n",
    "purchases = purchase_data[\"Purchase ID\"].count()\n",
    "total_revenue = purchase_data[\"Price\"].sum()\n",
    "print(unique_item_name, average_price, purchases, total_revenue)"
   ]
  },
  {
   "cell_type": "code",
   "execution_count": 75,
   "id": "dd24e664-c30a-4a7a-9a10-f9646f4d5bd1",
   "metadata": {},
   "outputs": [
    {
     "name": "stdout",
     "output_type": "stream",
     "text": [
      "Gender Stats:\n",
      "Male Players: 484 : 84.02777777777779\n",
      "Female Players: 81 : 14.0625\n",
      "Other Players: 11 : 1.9097222222222223\n"
     ]
    }
   ],
   "source": [
    "# gender_demo_df = pd.DataFrame(purchase_data[[\"SN\", \"Gender\"]].value_counts())\n",
    "\n",
    "gender_demo_df = purchase_data[[\"SN\", \"Gender\"]]\n",
    "gender_demo_df = gender_demo_df.drop_duplicates(subset=\"SN\")\n",
    "gender_demo_df.sort_values(\"Gender\")\n",
    "female_count = gender_demo_df.loc[gender_demo_df[\"Gender\"] == \"Female\"]\n",
    "male_count = gender_demo_df.loc[gender_demo_df[\"Gender\"] == \"Male\"]\n",
    "other_count = gender_demo_df.loc[gender_demo_df[\"Gender\"] == \"Other / Non-Disclosed\"]\n",
    "# Gender Demographics\n",
    "# Percentage and Count of Male Players      \n",
    "# Percentage and Count of Female Players\n",
    "# Percentage and Count of Other / Non-Disclosed\n",
    "print(\"Gender Stats:\")\n",
    "print(f\"Male Players: {len(male_count)} : {(len(male_count) / len(gender_demo_df))*100}\")\n",
    "print(f\"Female Players: {len(female_count)} : {(len(female_count) / len(gender_demo_df))*100}\")\n",
    "print(f\"Other Players: {len(other_count)} : {(len(other_count) / len(gender_demo_df))*100}\")"
   ]
  },
  {
   "cell_type": "code",
   "execution_count": 76,
   "id": "27bf7902-db29-41ef-8fee-1213a90375ef",
   "metadata": {},
   "outputs": [],
   "source": [
    "# Purchasing Analysis (Gender)\n",
    "# The below each broken by gender\n",
    "\n",
    "# Purchase Count\n",
    "purch_count = pd_df[\"Gender\"].value_counts()\n",
    "\n",
    "# Average Purchase Price\n",
    "avg_purch_price = pd_df.groupby(\"Gender\")[\"Price\"].mean()\n",
    "\n",
    "# Total Purchase Value\n",
    "total_purch_value = pd_df.groupby(\"Gender\")[\"Price\"].sum()\n",
    "\n",
    "# Average Purchase Total per Person by Gender\n",
    "avg_purch_by_gender = pd_df.groupby([\"SN\", \"Gender\"]).sum()\n",
    "avg_purch_by_gender = pd.DataFrame(avg_purch_by_gender)\n",
    "avg_purch_by_gender = (avg_purch_by_gender.groupby(\"Gender\")[\"Price\"].mean()).map(\"${:.2f}\".format)"
   ]
  },
  {
   "cell_type": "code",
   "execution_count": 77,
   "id": "e3ee6c38-5e2c-4412-be64-6da328e377e3",
   "metadata": {},
   "outputs": [
    {
     "ename": "NameError",
     "evalue": "name 'age_demo' is not defined",
     "output_type": "error",
     "traceback": [
      "\u001b[1;31m---------------------------------------------------------------------------\u001b[0m",
      "\u001b[1;31mNameError\u001b[0m                                 Traceback (most recent call last)",
      "\u001b[1;32m<ipython-input-77-94fd693241d6>\u001b[0m in \u001b[0;36m<module>\u001b[1;34m\u001b[0m\n\u001b[1;32m----> 1\u001b[1;33m \u001b[0mage_demo\u001b[0m\u001b[1;33m.\u001b[0m\u001b[0msum\u001b[0m\u001b[1;33m(\u001b[0m\u001b[1;33m)\u001b[0m\u001b[1;33m\u001b[0m\u001b[1;33m\u001b[0m\u001b[0m\n\u001b[0m",
      "\u001b[1;31mNameError\u001b[0m: name 'age_demo' is not defined"
     ]
    }
   ],
   "source": [
    "age_demo.sum()"
   ]
  },
  {
   "cell_type": "code",
   "execution_count": 78,
   "id": "e2bd48e4-14dc-4b52-985c-7e006401a140",
   "metadata": {
    "tags": []
   },
   "outputs": [],
   "source": [
    "# Age Demographics\n",
    "# The below each broken into bins of 4 years (i.e. <10, 10-14, 15-19, etc.)\n",
    "bins = [0, 9.9, 14.9, 19.9, 24.9, 29.9, 39.9, 1000]\n",
    "age_labels = [\" <10\", \"10-14\", \"15-19\", \"20-24\", \"25-29\", \"30-39\", \"40+\"]\n",
    "\n",
    "#purchase analysis df\n",
    "pa_df = purchase_data\n",
    "pa_df[\"Age Range\"] = pd.cut(pa_df[\"Age\"], bins, labels=age_labels)\n",
    "age_demo = pd.DataFrame(pa_df[\"Age Range\"].value_counts())\n",
    "age_demo = age_demo.sort_index()\n",
    "age_demo = age_demo.reset_index()\n",
    "age_demo = age_demo.rename(columns={\"index\": \"Groups\"})\n",
    "\n",
    "# Get Percentages of Players\n",
    "\n",
    "\n",
    "\n",
    "\n",
    "\n",
    "# percentages = percentages.reset_index()\n",
    "# percentages = percentages.rename(columns={\"index\": \"Groups\"})\n",
    "\n",
    "\n",
    "# a = pd.merge(age_demo, percentages, on=\"Groups\")\n",
    "# # ???? Merging??\n",
    "\n",
    "\n",
    "# Purchase Count\n",
    "# Average Purchase Price\n",
    "# Total Purchase Value\n",
    "# Average Purchase Total per Person by Age Group"
   ]
  },
  {
   "cell_type": "code",
   "execution_count": 79,
   "id": "27c1fc87-41e6-49e2-994b-0b8c080fb979",
   "metadata": {},
   "outputs": [
    {
     "data": {
      "text/plain": [
       "0      20\n",
       "1      40\n",
       "2      24\n",
       "3      24\n",
       "4      23\n",
       "       ..\n",
       "775    21\n",
       "776    21\n",
       "777    20\n",
       "778     7\n",
       "779    24\n",
       "Name: Age, Length: 780, dtype: int64"
      ]
     },
     "execution_count": 79,
     "metadata": {},
     "output_type": "execute_result"
    }
   ],
   "source": [
    "purchase_data[\"Age\"]"
   ]
  },
  {
   "cell_type": "code",
   "execution_count": 80,
   "id": "59470249-db24-4766-8015-6b5209cdf176",
   "metadata": {},
   "outputs": [
    {
     "data": {
      "text/html": [
       "<div>\n",
       "<style scoped>\n",
       "    .dataframe tbody tr th:only-of-type {\n",
       "        vertical-align: middle;\n",
       "    }\n",
       "\n",
       "    .dataframe tbody tr th {\n",
       "        vertical-align: top;\n",
       "    }\n",
       "\n",
       "    .dataframe thead th {\n",
       "        text-align: right;\n",
       "    }\n",
       "</style>\n",
       "<table border=\"1\" class=\"dataframe\">\n",
       "  <thead>\n",
       "    <tr style=\"text-align: right;\">\n",
       "      <th></th>\n",
       "      <th>Purchase ID</th>\n",
       "      <th>Age</th>\n",
       "      <th>Item ID</th>\n",
       "      <th>Price</th>\n",
       "    </tr>\n",
       "    <tr>\n",
       "      <th>SN</th>\n",
       "      <th></th>\n",
       "      <th></th>\n",
       "      <th></th>\n",
       "      <th></th>\n",
       "    </tr>\n",
       "  </thead>\n",
       "  <tbody>\n",
       "    <tr>\n",
       "      <th>Lisosia93</th>\n",
       "      <td>1630</td>\n",
       "      <td>125</td>\n",
       "      <td>442</td>\n",
       "      <td>18.96</td>\n",
       "    </tr>\n",
       "    <tr>\n",
       "      <th>Idastidru52</th>\n",
       "      <td>1999</td>\n",
       "      <td>96</td>\n",
       "      <td>527</td>\n",
       "      <td>15.45</td>\n",
       "    </tr>\n",
       "    <tr>\n",
       "      <th>Chamjask73</th>\n",
       "      <td>1306</td>\n",
       "      <td>66</td>\n",
       "      <td>339</td>\n",
       "      <td>13.83</td>\n",
       "    </tr>\n",
       "    <tr>\n",
       "      <th>Iral74</th>\n",
       "      <td>2285</td>\n",
       "      <td>84</td>\n",
       "      <td>518</td>\n",
       "      <td>13.62</td>\n",
       "    </tr>\n",
       "    <tr>\n",
       "      <th>Iskadarya95</th>\n",
       "      <td>713</td>\n",
       "      <td>60</td>\n",
       "      <td>321</td>\n",
       "      <td>13.10</td>\n",
       "    </tr>\n",
       "  </tbody>\n",
       "</table>\n",
       "</div>"
      ],
      "text/plain": [
       "             Purchase ID  Age  Item ID  Price\n",
       "SN                                           \n",
       "Lisosia93           1630  125      442  18.96\n",
       "Idastidru52         1999   96      527  15.45\n",
       "Chamjask73          1306   66      339  13.83\n",
       "Iral74              2285   84      518  13.62\n",
       "Iskadarya95          713   60      321  13.10"
      ]
     },
     "execution_count": 80,
     "metadata": {},
     "output_type": "execute_result"
    }
   ],
   "source": [
    "a"
   ]
  },
  {
   "cell_type": "code",
   "execution_count": 81,
   "id": "c299180c-b4ed-407d-8d41-b92dcefa718d",
   "metadata": {},
   "outputs": [
    {
     "data": {
      "text/plain": [
       "SN\n",
       "Chamjask73     3\n",
       "Idastidru52    4\n",
       "Iral74         4\n",
       "Iskadarya95    3\n",
       "Lisosia93      5\n",
       "Name: Purchase ID, dtype: int64"
      ]
     },
     "execution_count": 81,
     "metadata": {},
     "output_type": "execute_result"
    }
   ],
   "source": [
    "c"
   ]
  },
  {
   "cell_type": "code",
   "execution_count": 108,
   "id": "49f2394d-b2a8-4098-9966-96e6b0bd8e3f",
   "metadata": {},
   "outputs": [
    {
     "data": {
      "text/html": [
       "<div>\n",
       "<style scoped>\n",
       "    .dataframe tbody tr th:only-of-type {\n",
       "        vertical-align: middle;\n",
       "    }\n",
       "\n",
       "    .dataframe tbody tr th {\n",
       "        vertical-align: top;\n",
       "    }\n",
       "\n",
       "    .dataframe thead th {\n",
       "        text-align: right;\n",
       "    }\n",
       "</style>\n",
       "<table border=\"1\" class=\"dataframe\">\n",
       "  <thead>\n",
       "    <tr style=\"text-align: right;\">\n",
       "      <th></th>\n",
       "      <th>Purchase Count</th>\n",
       "      <th>Average Purchase Price</th>\n",
       "      <th>Total Purchase Value</th>\n",
       "    </tr>\n",
       "    <tr>\n",
       "      <th>SN</th>\n",
       "      <th></th>\n",
       "      <th></th>\n",
       "      <th></th>\n",
       "    </tr>\n",
       "  </thead>\n",
       "  <tbody>\n",
       "    <tr>\n",
       "      <th>Lisosia93</th>\n",
       "      <td>5</td>\n",
       "      <td>$3.79</td>\n",
       "      <td>18.96</td>\n",
       "    </tr>\n",
       "    <tr>\n",
       "      <th>Idastidru52</th>\n",
       "      <td>4</td>\n",
       "      <td>$3.86</td>\n",
       "      <td>15.45</td>\n",
       "    </tr>\n",
       "    <tr>\n",
       "      <th>Chamjask73</th>\n",
       "      <td>3</td>\n",
       "      <td>$4.61</td>\n",
       "      <td>13.83</td>\n",
       "    </tr>\n",
       "    <tr>\n",
       "      <th>Iral74</th>\n",
       "      <td>4</td>\n",
       "      <td>$3.40</td>\n",
       "      <td>13.62</td>\n",
       "    </tr>\n",
       "    <tr>\n",
       "      <th>Iskadarya95</th>\n",
       "      <td>3</td>\n",
       "      <td>$4.37</td>\n",
       "      <td>13.10</td>\n",
       "    </tr>\n",
       "  </tbody>\n",
       "</table>\n",
       "</div>"
      ],
      "text/plain": [
       "             Purchase Count Average Purchase Price  Total Purchase Value\n",
       "SN                                                                      \n",
       "Lisosia93                 5                  $3.79                 18.96\n",
       "Idastidru52               4                  $3.86                 15.45\n",
       "Chamjask73                3                  $4.61                 13.83\n",
       "Iral74                    4                  $3.40                 13.62\n",
       "Iskadarya95               3                  $4.37                 13.10"
      ]
     },
     "execution_count": 108,
     "metadata": {},
     "output_type": "execute_result"
    }
   ],
   "source": [
    "# Top Spenders\n",
    "# Identify the the top 5 spenders in the game by total purchase value, then list (in a table):\n",
    "# SN\n",
    "# Purchase Count\n",
    "# Average Purchase Price\n",
    "# Total Purchase Value\n",
    "# Most Popular Items\n",
    "\n",
    "# SN\n",
    "a = pd_df.groupby(\"SN\").sum()\n",
    "a = a.sort_values(by=\"Price\", ascending=False).head(5)\n",
    "list = [\"Lisosia93\", \"Idastidru52\", \"Chamjask73\", \"Iral74\", \"Iskadarya95\"]\n",
    "a\n",
    "\n",
    "# Purchase Count - Grouped by SN, Sorted on highest Purchase count\n",
    "c = pd_df.set_index(\"SN\")\n",
    "c = c.loc[list, :]\n",
    "c = c.groupby(\"SN\")[\"Purchase ID\"].count()\n",
    "c\n",
    "\n",
    "# Average Purchase Price\n",
    "d = pd.merge(a, c, on=\"SN\")\n",
    "d\n",
    "\n",
    "d[\"Average Purchase Price\"] = (d[\"Price\"] / d[\"Purchase ID_y\"]).map(\"${:.2f}\".format)\n",
    "d = d.rename(columns={\"Purchase ID_y\": \"Purchase Count\", \"Price\": \"Total Purchase Value\"})\n",
    "d = d[[\"Purchase Count\", \"Average Purchase Price\", \"Total Purchase Value\"]]\n",
    "d"
   ]
  },
  {
   "cell_type": "code",
   "execution_count": null,
   "id": "bfbfc909-c25b-4556-b53c-235cdd7ad83e",
   "metadata": {},
   "outputs": [],
   "source": []
  },
  {
   "cell_type": "code",
   "execution_count": 99,
   "id": "3ac95523-b89e-4817-89ad-c2ae418f621b",
   "metadata": {
    "tags": []
   },
   "outputs": [
    {
     "data": {
      "text/html": [
       "<style  type=\"text/css\" >\n",
       "</style><table id=\"T_b6054_\" ><thead>    <tr>        <th class=\"blank level0\" ></th>        <th class=\"col_heading level0 col0\" >Item Name</th>        <th class=\"col_heading level0 col1\" >Purchase Count</th>        <th class=\"col_heading level0 col2\" >Item Price</th>        <th class=\"col_heading level0 col3\" >Total Purchase Value</th>    </tr>    <tr>        <th class=\"index_name level0\" >Item ID</th>        <th class=\"blank\" ></th>        <th class=\"blank\" ></th>        <th class=\"blank\" ></th>        <th class=\"blank\" ></th>    </tr></thead><tbody>\n",
       "                <tr>\n",
       "                        <th id=\"T_b6054_level0_row0\" class=\"row_heading level0 row0\" >92</th>\n",
       "                        <td id=\"T_b6054_row0_col0\" class=\"data row0 col0\" >Final Critic</td>\n",
       "                        <td id=\"T_b6054_row0_col1\" class=\"data row0 col1\" >13</td>\n",
       "                        <td id=\"T_b6054_row0_col2\" class=\"data row0 col2\" >$4.88</td>\n",
       "                        <td id=\"T_b6054_row0_col3\" class=\"data row0 col3\" >$59.99</td>\n",
       "            </tr>\n",
       "            <tr>\n",
       "                        <th id=\"T_b6054_level0_row1\" class=\"row_heading level0 row1\" >178</th>\n",
       "                        <td id=\"T_b6054_row1_col0\" class=\"data row1 col0\" >Oathbreaker, Last Hope of the Breaking Storm</td>\n",
       "                        <td id=\"T_b6054_row1_col1\" class=\"data row1 col1\" >12</td>\n",
       "                        <td id=\"T_b6054_row1_col2\" class=\"data row1 col2\" >$4.23</td>\n",
       "                        <td id=\"T_b6054_row1_col3\" class=\"data row1 col3\" >$50.76</td>\n",
       "            </tr>\n",
       "            <tr>\n",
       "                        <th id=\"T_b6054_level0_row2\" class=\"row_heading level0 row2\" >145</th>\n",
       "                        <td id=\"T_b6054_row2_col0\" class=\"data row2 col0\" >Fiery Glass Crusader</td>\n",
       "                        <td id=\"T_b6054_row2_col1\" class=\"data row2 col1\" >9</td>\n",
       "                        <td id=\"T_b6054_row2_col2\" class=\"data row2 col2\" >$4.58</td>\n",
       "                        <td id=\"T_b6054_row2_col3\" class=\"data row2 col3\" >$41.22</td>\n",
       "            </tr>\n",
       "            <tr>\n",
       "                        <th id=\"T_b6054_level0_row3\" class=\"row_heading level0 row3\" >132</th>\n",
       "                        <td id=\"T_b6054_row3_col0\" class=\"data row3 col0\" >Persuasion</td>\n",
       "                        <td id=\"T_b6054_row3_col1\" class=\"data row3 col1\" >9</td>\n",
       "                        <td id=\"T_b6054_row3_col2\" class=\"data row3 col2\" >$3.19</td>\n",
       "                        <td id=\"T_b6054_row3_col3\" class=\"data row3 col3\" >$28.99</td>\n",
       "            </tr>\n",
       "            <tr>\n",
       "                        <th id=\"T_b6054_level0_row4\" class=\"row_heading level0 row4\" >108</th>\n",
       "                        <td id=\"T_b6054_row4_col0\" class=\"data row4 col0\" >Extraction, Quickblade Of Trembling Hands</td>\n",
       "                        <td id=\"T_b6054_row4_col1\" class=\"data row4 col1\" >9</td>\n",
       "                        <td id=\"T_b6054_row4_col2\" class=\"data row4 col2\" >$3.53</td>\n",
       "                        <td id=\"T_b6054_row4_col3\" class=\"data row4 col3\" >$31.77</td>\n",
       "            </tr>\n",
       "            <tr>\n",
       "                        <th id=\"T_b6054_level0_row5\" class=\"row_heading level0 row5\" >82</th>\n",
       "                        <td id=\"T_b6054_row5_col0\" class=\"data row5 col0\" >Nirvana</td>\n",
       "                        <td id=\"T_b6054_row5_col1\" class=\"data row5 col1\" >9</td>\n",
       "                        <td id=\"T_b6054_row5_col2\" class=\"data row5 col2\" >$4.90</td>\n",
       "                        <td id=\"T_b6054_row5_col3\" class=\"data row5 col3\" >$44.10</td>\n",
       "            </tr>\n",
       "            <tr>\n",
       "                        <th id=\"T_b6054_level0_row6\" class=\"row_heading level0 row6\" >103</th>\n",
       "                        <td id=\"T_b6054_row6_col0\" class=\"data row6 col0\" >Singed Scalpel</td>\n",
       "                        <td id=\"T_b6054_row6_col1\" class=\"data row6 col1\" >8</td>\n",
       "                        <td id=\"T_b6054_row6_col2\" class=\"data row6 col2\" >$4.35</td>\n",
       "                        <td id=\"T_b6054_row6_col3\" class=\"data row6 col3\" >$34.80</td>\n",
       "            </tr>\n",
       "            <tr>\n",
       "                        <th id=\"T_b6054_level0_row7\" class=\"row_heading level0 row7\" >75</th>\n",
       "                        <td id=\"T_b6054_row7_col0\" class=\"data row7 col0\" >Brutality Ivory Warmace</td>\n",
       "                        <td id=\"T_b6054_row7_col1\" class=\"data row7 col1\" >8</td>\n",
       "                        <td id=\"T_b6054_row7_col2\" class=\"data row7 col2\" >$2.42</td>\n",
       "                        <td id=\"T_b6054_row7_col3\" class=\"data row7 col3\" >$19.36</td>\n",
       "            </tr>\n",
       "            <tr>\n",
       "                        <th id=\"T_b6054_level0_row8\" class=\"row_heading level0 row8\" >72</th>\n",
       "                        <td id=\"T_b6054_row8_col0\" class=\"data row8 col0\" >Winter's Bite</td>\n",
       "                        <td id=\"T_b6054_row8_col1\" class=\"data row8 col1\" >8</td>\n",
       "                        <td id=\"T_b6054_row8_col2\" class=\"data row8 col2\" >$3.77</td>\n",
       "                        <td id=\"T_b6054_row8_col3\" class=\"data row8 col3\" >$30.16</td>\n",
       "            </tr>\n",
       "            <tr>\n",
       "                        <th id=\"T_b6054_level0_row9\" class=\"row_heading level0 row9\" >60</th>\n",
       "                        <td id=\"T_b6054_row9_col0\" class=\"data row9 col0\" >Wolf</td>\n",
       "                        <td id=\"T_b6054_row9_col1\" class=\"data row9 col1\" >8</td>\n",
       "                        <td id=\"T_b6054_row9_col2\" class=\"data row9 col2\" >$3.54</td>\n",
       "                        <td id=\"T_b6054_row9_col3\" class=\"data row9 col3\" >$28.32</td>\n",
       "            </tr>\n",
       "    </tbody></table>"
      ],
      "text/plain": [
       "<pandas.io.formats.style.Styler at 0x231bd78f100>"
      ]
     },
     "execution_count": 99,
     "metadata": {},
     "output_type": "execute_result"
    }
   ],
   "source": [
    "# Identify the 5 most popular items by purchase count, then list (in a table):\n",
    "# Item ID\n",
    "# Item Name\n",
    "# Purchase Count\n",
    "# Item Price\n",
    "# Total Purchase Value\n",
    "# Most Profitable Items\n",
    "\n",
    "# Calculations \n",
    "item_name = pd_df.groupby(\"Item Name\").count()\n",
    "pop_items = item_name.sort_values(by=\"Purchase ID\", ascending=False)\n",
    "pop_items = pop_items.reset_index()\n",
    "\n",
    "item_price = pd_df.groupby(\"Item Name\")[\"Price\"].sum()\n",
    "e = item_price.loc[pop_items[\"Item Name\"]]\n",
    "pop_items = pd.merge(pop_items, e, on=\"Item Name\")\n",
    "\n",
    "# Put Item ID & Item Price back into pop_items table for items\n",
    "#     Find right item name and match columns\n",
    "\n",
    "item_ids = pd_df.groupby(\"Item Name\")[\"Item ID\"].first()\n",
    "item_prices = pd_df.groupby(\"Item Name\")[\"Price\"].first()\n",
    "\n",
    "pop_items = pd.merge(pop_items, item_ids, on=\"Item Name\")\n",
    "pop_items = pd.merge(pop_items, item_prices, on=\"Item Name\")\n",
    "\n",
    "# Column Manipulation\n",
    "most_pop_items = pop_items[[\"Item ID_y\", \"Item Name\", \"Purchase ID\", \"Price\", \"Price_y\"]]\n",
    "\n",
    "most_pop_items = most_pop_items.rename(columns={\n",
    "    \"Item ID_y\": \"Item ID\",\n",
    "    \"Purchase ID\": \"Purchase Count\",\n",
    "    \"Price\": \"Item Price\",\n",
    "    \"Price_y\": \"Total Purchase Value\"\n",
    "})\n",
    "\n",
    "# Set Index to Item ID\n",
    "most_pop_items = most_pop_items.set_index('Item ID')\n",
    "\n",
    "# Sorting and Displaying\n",
    "most_pop_items = most_pop_items.sort_values(by=[\"Purchase Count\", \"Item ID\"], ascending=False)\n",
    "most_pop_items.head(10).style.format(style_dict)"
   ]
  },
  {
   "cell_type": "code",
   "execution_count": null,
   "id": "29ce4736-3748-4cf3-9fa9-cdaefde879f4",
   "metadata": {},
   "outputs": [],
   "source": []
  },
  {
   "cell_type": "code",
   "execution_count": 86,
   "id": "bfb99a69-db99-4b17-890a-d5fb7665dfc2",
   "metadata": {},
   "outputs": [],
   "source": [
    "# Most Profitable Items"
   ]
  },
  {
   "cell_type": "code",
   "execution_count": 104,
   "id": "6aa7d3f3-dc77-4238-b0b7-548de86af930",
   "metadata": {},
   "outputs": [
    {
     "data": {
      "text/html": [
       "<style  type=\"text/css\" >\n",
       "</style><table id=\"T_f698b_\" ><thead>    <tr>        <th class=\"blank level0\" ></th>        <th class=\"col_heading level0 col0\" >Item Name</th>        <th class=\"col_heading level0 col1\" >Purchase Count</th>        <th class=\"col_heading level0 col2\" >Item Price</th>        <th class=\"col_heading level0 col3\" >Total Purchase Value</th>    </tr>    <tr>        <th class=\"index_name level0\" >Item ID</th>        <th class=\"blank\" ></th>        <th class=\"blank\" ></th>        <th class=\"blank\" ></th>        <th class=\"blank\" ></th>    </tr></thead><tbody>\n",
       "                <tr>\n",
       "                        <th id=\"T_f698b_level0_row0\" class=\"row_heading level0 row0\" >92</th>\n",
       "                        <td id=\"T_f698b_row0_col0\" class=\"data row0 col0\" >Final Critic</td>\n",
       "                        <td id=\"T_f698b_row0_col1\" class=\"data row0 col1\" >13</td>\n",
       "                        <td id=\"T_f698b_row0_col2\" class=\"data row0 col2\" >$4.88</td>\n",
       "                        <td id=\"T_f698b_row0_col3\" class=\"data row0 col3\" >$59.99</td>\n",
       "            </tr>\n",
       "            <tr>\n",
       "                        <th id=\"T_f698b_level0_row1\" class=\"row_heading level0 row1\" >178</th>\n",
       "                        <td id=\"T_f698b_row1_col0\" class=\"data row1 col0\" >Oathbreaker, Last Hope of the Breaking Storm</td>\n",
       "                        <td id=\"T_f698b_row1_col1\" class=\"data row1 col1\" >12</td>\n",
       "                        <td id=\"T_f698b_row1_col2\" class=\"data row1 col2\" >$4.23</td>\n",
       "                        <td id=\"T_f698b_row1_col3\" class=\"data row1 col3\" >$50.76</td>\n",
       "            </tr>\n",
       "            <tr>\n",
       "                        <th id=\"T_f698b_level0_row2\" class=\"row_heading level0 row2\" >82</th>\n",
       "                        <td id=\"T_f698b_row2_col0\" class=\"data row2 col0\" >Nirvana</td>\n",
       "                        <td id=\"T_f698b_row2_col1\" class=\"data row2 col1\" >9</td>\n",
       "                        <td id=\"T_f698b_row2_col2\" class=\"data row2 col2\" >$4.90</td>\n",
       "                        <td id=\"T_f698b_row2_col3\" class=\"data row2 col3\" >$44.10</td>\n",
       "            </tr>\n",
       "            <tr>\n",
       "                        <th id=\"T_f698b_level0_row3\" class=\"row_heading level0 row3\" >145</th>\n",
       "                        <td id=\"T_f698b_row3_col0\" class=\"data row3 col0\" >Fiery Glass Crusader</td>\n",
       "                        <td id=\"T_f698b_row3_col1\" class=\"data row3 col1\" >9</td>\n",
       "                        <td id=\"T_f698b_row3_col2\" class=\"data row3 col2\" >$4.58</td>\n",
       "                        <td id=\"T_f698b_row3_col3\" class=\"data row3 col3\" >$41.22</td>\n",
       "            </tr>\n",
       "            <tr>\n",
       "                        <th id=\"T_f698b_level0_row4\" class=\"row_heading level0 row4\" >103</th>\n",
       "                        <td id=\"T_f698b_row4_col0\" class=\"data row4 col0\" >Singed Scalpel</td>\n",
       "                        <td id=\"T_f698b_row4_col1\" class=\"data row4 col1\" >8</td>\n",
       "                        <td id=\"T_f698b_row4_col2\" class=\"data row4 col2\" >$4.35</td>\n",
       "                        <td id=\"T_f698b_row4_col3\" class=\"data row4 col3\" >$34.80</td>\n",
       "            </tr>\n",
       "            <tr>\n",
       "                        <th id=\"T_f698b_level0_row5\" class=\"row_heading level0 row5\" >59</th>\n",
       "                        <td id=\"T_f698b_row5_col0\" class=\"data row5 col0\" >Lightning, Etcher of the King</td>\n",
       "                        <td id=\"T_f698b_row5_col1\" class=\"data row5 col1\" >8</td>\n",
       "                        <td id=\"T_f698b_row5_col2\" class=\"data row5 col2\" >$4.23</td>\n",
       "                        <td id=\"T_f698b_row5_col3\" class=\"data row5 col3\" >$33.84</td>\n",
       "            </tr>\n",
       "            <tr>\n",
       "                        <th id=\"T_f698b_level0_row6\" class=\"row_heading level0 row6\" >108</th>\n",
       "                        <td id=\"T_f698b_row6_col0\" class=\"data row6 col0\" >Extraction, Quickblade Of Trembling Hands</td>\n",
       "                        <td id=\"T_f698b_row6_col1\" class=\"data row6 col1\" >9</td>\n",
       "                        <td id=\"T_f698b_row6_col2\" class=\"data row6 col2\" >$3.53</td>\n",
       "                        <td id=\"T_f698b_row6_col3\" class=\"data row6 col3\" >$31.77</td>\n",
       "            </tr>\n",
       "            <tr>\n",
       "                        <th id=\"T_f698b_level0_row7\" class=\"row_heading level0 row7\" >78</th>\n",
       "                        <td id=\"T_f698b_row7_col0\" class=\"data row7 col0\" >Glimmer, Ender of the Moon</td>\n",
       "                        <td id=\"T_f698b_row7_col1\" class=\"data row7 col1\" >7</td>\n",
       "                        <td id=\"T_f698b_row7_col2\" class=\"data row7 col2\" >$4.40</td>\n",
       "                        <td id=\"T_f698b_row7_col3\" class=\"data row7 col3\" >$30.80</td>\n",
       "            </tr>\n",
       "            <tr>\n",
       "                        <th id=\"T_f698b_level0_row8\" class=\"row_heading level0 row8\" >72</th>\n",
       "                        <td id=\"T_f698b_row8_col0\" class=\"data row8 col0\" >Winter's Bite</td>\n",
       "                        <td id=\"T_f698b_row8_col1\" class=\"data row8 col1\" >8</td>\n",
       "                        <td id=\"T_f698b_row8_col2\" class=\"data row8 col2\" >$3.77</td>\n",
       "                        <td id=\"T_f698b_row8_col3\" class=\"data row8 col3\" >$30.16</td>\n",
       "            </tr>\n",
       "            <tr>\n",
       "                        <th id=\"T_f698b_level0_row9\" class=\"row_heading level0 row9\" >132</th>\n",
       "                        <td id=\"T_f698b_row9_col0\" class=\"data row9 col0\" >Persuasion</td>\n",
       "                        <td id=\"T_f698b_row9_col1\" class=\"data row9 col1\" >9</td>\n",
       "                        <td id=\"T_f698b_row9_col2\" class=\"data row9 col2\" >$3.19</td>\n",
       "                        <td id=\"T_f698b_row9_col3\" class=\"data row9 col3\" >$28.99</td>\n",
       "            </tr>\n",
       "    </tbody></table>"
      ],
      "text/plain": [
       "<pandas.io.formats.style.Styler at 0x231bea48130>"
      ]
     },
     "execution_count": 104,
     "metadata": {},
     "output_type": "execute_result"
    }
   ],
   "source": [
    "# Sort the above table by total purchase value in descending order\n",
    "# Optional: give the displayed data cleaner formatting\n",
    "# Display a preview of the data frame\n",
    "most_prof_items = most_pop_items\n",
    "most_prof_items = most_prof_items.sort_values(by=\"Total Purchase Value\", ascending=False)\n",
    "most_prof_items.head(10).style.format(style_dict)"
   ]
  },
  {
   "cell_type": "code",
   "execution_count": null,
   "id": "97c52164-5b5a-4b1a-a387-5094f4c8d1c9",
   "metadata": {},
   "outputs": [],
   "source": []
  },
  {
   "cell_type": "code",
   "execution_count": null,
   "id": "695ff826-7a09-405c-a50a-4f1fbd6ec5d6",
   "metadata": {},
   "outputs": [],
   "source": []
  },
  {
   "cell_type": "code",
   "execution_count": null,
   "id": "95ad0556-56ce-44f9-a20d-49336f7500ef",
   "metadata": {},
   "outputs": [],
   "source": []
  },
  {
   "cell_type": "code",
   "execution_count": 98,
   "id": "534093ce-6c87-4d7f-b59a-27b698d7e540",
   "metadata": {},
   "outputs": [
    {
     "ename": "NameError",
     "evalue": "name 'df' is not defined",
     "output_type": "error",
     "traceback": [
      "\u001b[1;31m---------------------------------------------------------------------------\u001b[0m",
      "\u001b[1;31mNameError\u001b[0m                                 Traceback (most recent call last)",
      "\u001b[1;32m<ipython-input-98-522d739e4e40>\u001b[0m in \u001b[0;36m<module>\u001b[1;34m\u001b[0m\n\u001b[1;32m----> 1\u001b[1;33m \u001b[0mdf\u001b[0m\u001b[1;33m.\u001b[0m\u001b[0mstyle\u001b[0m\u001b[1;33m.\u001b[0m\u001b[0mformat\u001b[0m\u001b[1;33m(\u001b[0m\u001b[1;34m\"{:.2%}\"\u001b[0m\u001b[1;33m)\u001b[0m\u001b[1;33m\u001b[0m\u001b[1;33m\u001b[0m\u001b[0m\n\u001b[0m",
      "\u001b[1;31mNameError\u001b[0m: name 'df' is not defined"
     ]
    }
   ],
   "source": []
  },
  {
   "cell_type": "code",
   "execution_count": null,
   "id": "4c455112-d4f0-4578-8a5a-265a84d0554e",
   "metadata": {},
   "outputs": [],
   "source": []
  },
  {
   "cell_type": "code",
   "execution_count": null,
   "id": "2c7a32a7-2d83-406b-8edb-f24bc44c7495",
   "metadata": {},
   "outputs": [],
   "source": [
    "# Identify the 5 most profitable items by total purchase value, then list (in a table):\n",
    "# Item ID\n",
    "# Item Name\n",
    "# Purchase Count\n",
    "# Item Price\n",
    "# Total Purchase Value"
   ]
  },
  {
   "cell_type": "code",
   "execution_count": null,
   "id": "9c30852f-b7f2-4e68-8e49-59f8cda189de",
   "metadata": {},
   "outputs": [],
   "source": []
  }
 ],
 "metadata": {
  "kernelspec": {
   "display_name": "Python 3",
   "language": "python",
   "name": "python3"
  },
  "language_info": {
   "codemirror_mode": {
    "name": "ipython",
    "version": 3
   },
   "file_extension": ".py",
   "mimetype": "text/x-python",
   "name": "python",
   "nbconvert_exporter": "python",
   "pygments_lexer": "ipython3",
   "version": "3.8.8"
  }
 },
 "nbformat": 4,
 "nbformat_minor": 5
}
